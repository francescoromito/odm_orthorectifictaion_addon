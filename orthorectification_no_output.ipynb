{
  "nbformat": 4,
  "nbformat_minor": 0,
  "metadata": {
    "colab": {
      "provenance": []
    },
    "kernelspec": {
      "name": "python3",
      "display_name": "Python 3"
    },
    "language_info": {
      "name": "python"
    }
  },
  "cells": [
    {
      "cell_type": "markdown",
      "source": [
        "# **ORTHORECTIFICATION**\n",
        "\n",
        "This notebook requires\n",
        "- file odm_orthophoto.tif from \n",
        "datasets\\project\\odm_orthophoto\n",
        "in the working directory\n",
        "- the undistorted images from \n",
        "datasets\\project\\opensfm\\undistorted\\images\n",
        "in the directory /undistorted\n",
        "- orthorectified images from\n",
        "datasets\\project\\orthorectified\n",
        "in the directory /orthorectified"
      ],
      "metadata": {
        "id": "u4gBXjwuMyc4"
      }
    },
    {
      "cell_type": "code",
      "execution_count": null,
      "metadata": {
        "id": "vQ2YXcyt17rN"
      },
      "outputs": [],
      "source": [
        "import numpy as np\n",
        "import gdal\n",
        "import pandas as pd\n",
        "from osgeo import osr, ogr, gdal\n",
        "from matplotlib import pyplot as plt\n",
        "import cv2\n",
        "import os\n",
        "from google.colab.patches import cv2_imshow\n",
        "from IPython.display import clear_output\n",
        "from tqdm import tqdm as tq\n",
        "\n",
        "current_dir = os.getcwd()"
      ]
    },
    {
      "cell_type": "code",
      "source": [
        "def from_px_to_lon_lat(ds, x_px, y_px):\n",
        "\n",
        "  print('converting pixel:', x_px,y_px)\n",
        "\n",
        "  col, row, band = ds.RasterXSize, ds.RasterYSize, ds.RasterCount\n",
        "  #print(col, row, band)\n",
        "\n",
        "  xoff, a, b, yoff, d, e = ds.GetGeoTransform()\n",
        "  #print(xoff, a, b, yoff, d, e)\n",
        "\n",
        "  # details about the params: GDAL affine transform parameters\n",
        "  # xoff,yoff = left corner \n",
        "  # a,e = weight,height of pixels\n",
        "  # b,d = rotation of the image (zero if image is north up)\n",
        "\n",
        "  def pixel2coord(x, y):\n",
        "      \"\"\"Returns global coordinates from coordinates x,y of the pixel\"\"\"\n",
        "      xp = a * x + b * y + xoff\n",
        "      yp = d * x + e * y + yoff\n",
        "      return(xp, yp)\n",
        "\n",
        "  x,y = pixel2coord(x_px,y_px)\n",
        "  #print(x, y)\n",
        "\n",
        "  #These global coordinates are in a projected coordinated system, which is a representation of the spheroidal earth's surface, but flattened and distorted onto a plane.\n",
        "  #To convert these into latitude and longitude, we need to convert these coordinates into geographic coordinate system.\n",
        "\n",
        "\n",
        "  # get the existing coordinate system\n",
        "  old_cs= osr.SpatialReference()\n",
        "  old_cs.ImportFromWkt(ds.GetProjectionRef())\n",
        "\n",
        "  # create the new coordinate system\n",
        "  wgs84_wkt = \"\"\"\n",
        "  GEOGCS[\"WGS 84\",\n",
        "      DATUM[\"WGS_1984\",\n",
        "          SPHEROID[\"WGS 84\",6378137,298.257223563,\n",
        "              AUTHORITY[\"EPSG\",\"7030\"]],\n",
        "          AUTHORITY[\"EPSG\",\"6326\"]],\n",
        "      PRIMEM[\"Greenwich\",0,\n",
        "          AUTHORITY[\"EPSG\",\"8901\"]],\n",
        "      UNIT[\"degree\",0.01745329251994328,\n",
        "          AUTHORITY[\"EPSG\",\"9122\"]],\n",
        "      AUTHORITY[\"EPSG\",\"4326\"]]\"\"\"\n",
        "  new_cs = osr.SpatialReference()\n",
        "  new_cs.ImportFromWkt(wgs84_wkt)\n",
        "\n",
        "  # create a transform object to convert between coordinate systems\n",
        "  transform = osr.CoordinateTransformation(old_cs,new_cs)\n",
        "\n",
        "  # converting into geographic coordinate system\n",
        "  lonx, latx, z = transform.TransformPoint(x,y)\n",
        "\n",
        "  print('corresponding longitude and latitude:',latx, lonx)\n",
        "  return (latx, lonx, z)"
      ],
      "metadata": {
        "id": "gDPpK-ph6ci3"
      },
      "execution_count": null,
      "outputs": []
    },
    {
      "cell_type": "code",
      "source": [
        "def from_lon_lat_to_px(ds, lon, lat):\n",
        "\n",
        "  print('converting longitude and latitude:', lon, lat)\n",
        "\n",
        "  width = ds.RasterXSize\n",
        "  height = ds.RasterYSize\n",
        "  gt = ds.GetGeoTransform()\n",
        "  gp = ds.GetProjection()\n",
        "  data = np.array(ds.ReadAsArray())\n",
        "\n",
        "  def world_to_pixel(geo_matrix, x, y):\n",
        "      \"\"\"\n",
        "      Uses a gdal geomatrix (gdal.GetGeoTransform()) to calculate\n",
        "      the pixel location of a geospatial coordinate\n",
        "      \"\"\"\n",
        "      ul_x= geo_matrix[0]\n",
        "      ul_y = geo_matrix[3]\n",
        "      x_dist = geo_matrix[1]\n",
        "      y_dist = geo_matrix[5]\n",
        "      pixel = int((x - ul_x) / x_dist)\n",
        "      line = -int((ul_y - y) / y_dist)\n",
        "      return pixel, line\n",
        "\n",
        "  # Extract target reference from the tiff file\n",
        "  target = osr.SpatialReference(wkt=ds.GetProjection())\n",
        "\n",
        "  source = osr.SpatialReference()\n",
        "  source.ImportFromEPSG(4326)\n",
        "\n",
        "  transform = osr.CoordinateTransformation(source, target)\n",
        "\n",
        "  point = ogr.Geometry(ogr.wkbPoint)\n",
        "  point.AddPoint(lat, lon) \n",
        "  point.Transform(transform)\n",
        "\n",
        "  x, y = world_to_pixel(ds.GetGeoTransform(), point.GetX(), point.GetY())\n",
        "  print('corresponding pixel is:',x, y)\n",
        "  return x,y\n"
      ],
      "metadata": {
        "id": "s7xpkEqU2Ldw"
      },
      "execution_count": null,
      "outputs": []
    },
    {
      "cell_type": "code",
      "source": [
        "files = []\n",
        "for file in os.listdir(current_dir+'/orthorectified/'):\n",
        "    if file.endswith(\".tif\"):\n",
        "        files.append(current_dir+'/orthorectified/' + file)\n",
        "files.sort()"
      ],
      "metadata": {
        "id": "-_s87SlpLGNk"
      },
      "execution_count": null,
      "outputs": []
    },
    {
      "cell_type": "code",
      "source": [
        "filens = []\n",
        "for filee in files:\n",
        "  filens.append(filee.replace(current_dir + '/orthorectified/', ''))"
      ],
      "metadata": {
        "id": "f8DgtouUvPUk"
      },
      "execution_count": null,
      "outputs": []
    },
    {
      "cell_type": "code",
      "source": [
        "centers = []\n",
        "\n",
        "map_filename = current_dir + '/odm_orthophoto.tif'\n",
        "\n",
        "ds_map = gdal.Open(map_filename)\n",
        "img_map = np.array(cv2.imread(map_filename,0))\n",
        "\n",
        "for filee in files:\n",
        "  filename = filee\n",
        "\n",
        "  ds = gdal.Open(filename)\n",
        "  img = np.array(cv2.imread(filename,0))\n",
        "\n",
        "  print(img.shape[1]/2, img.shape[0]/2)\n",
        "  \n",
        "  x, y = img.shape[1]/2, img.shape[0]/2\n",
        "\n",
        "  try:\n",
        "    lon, lat, _ = from_px_to_lon_lat(ds, x, y)\n",
        "\n",
        "    x2, y2 = from_lon_lat_to_px(ds_map, lon, lat)\n",
        "\n",
        "    centers.append((x2,y2))\n",
        "  except:\n",
        "    print('JUMPED')\n",
        "    centers.append((0,0))\n",
        "\n",
        "xs = np.array(centers)[:][:,0]\n",
        "ys = np.array(centers)[:][:,1]\n",
        "clear_output()"
      ],
      "metadata": {
        "id": "5h8adhi4L4bA"
      },
      "execution_count": null,
      "outputs": []
    },
    {
      "cell_type": "markdown",
      "source": [
        "**SHOTS CENTERS**"
      ],
      "metadata": {
        "id": "JGPnGB9tLAKs"
      }
    },
    {
      "cell_type": "code",
      "source": [
        "plt.figure(figsize=(15,15))\n",
        "plt.imshow(img_map, cmap = 'gray')\n",
        "plt.scatter([xs], [ys], marker=\"x\", color=\"red\", s=250)\n",
        "plt.show()"
      ],
      "metadata": {
        "id": "pbnpFFZ3PqbI"
      },
      "execution_count": null,
      "outputs": []
    },
    {
      "cell_type": "code",
      "source": [
        "def warp_to_tiff(filen, h_dict):\n",
        "  \n",
        "  img1 = cv2.rotate(cv2.imread(current_dir + '/undistorted/'+ filen), cv2.ROTATE_90_COUNTERCLOCKWISE)\n",
        "  img2 = cv2.imread(current_dir + '/orthorectified/' + filen)\n",
        "  \n",
        "  orb = cv2.ORB_create(nfeatures=500)\n",
        "  kp1, des1 = orb.detectAndCompute(img1, None)\n",
        "  kp2, des2 = orb.detectAndCompute(img2, None)\n",
        "  \n",
        "  ## match descriptors and sort them in the order of their distance\n",
        "  bf = cv2.BFMatcher(cv2.NORM_HAMMING, crossCheck=True)\n",
        "  matches = bf.match(des1, des2)\n",
        "  dmatches = sorted(matches, key = lambda x:x.distance)\n",
        "\n",
        "  ## extract the matched keypoints\n",
        "  src_pts  = np.float32([kp1[m.queryIdx].pt for m in dmatches]).reshape(-1,1,2)\n",
        "  dst_pts  = np.float32([kp2[m.trainIdx].pt for m in dmatches]).reshape(-1,1,2)\n",
        "\n",
        "  ## find homography matrix and do perspective transform\n",
        "  h, status = cv2.findHomography(src_pts, dst_pts, cv2.RANSAC,5.0)\n",
        "\n",
        "  \n",
        "  im_dst = cv2.warpPerspective(img1, h, (img2.shape[:2][1], img2.shape[:2][0]))\n",
        "\n",
        "  match_img = cv2.drawMatches(img1, kp1, img2, kp2, matches[:50], None)\n",
        "  \n",
        "  #cv2_imshow(img2)\n",
        "  #cv2_imshow(im_dst)\n",
        "  h_dict[filen] = h\n",
        "  cv2.imwrite(current_dir + '/orthorectified_original/' + filen, im_dst)\n",
        "  return h_dict, im_dst\n",
        "\n",
        "def remap_point(xx,yy,h):\n",
        "  p = (xx, yy) # your original point\n",
        "  px = (h[0][0]*p[0] + h[0][1]*p[1] + h[0][2]) / ((h[2][0]*p[0] + h[2][1]*p[1] + h[2][2]))\n",
        "  py = (h[1][0]*p[0] + h[1][1]*p[1] + h[1][2]) / ((h[2][0]*p[0] + h[2][1]*p[1] + h[2][2]))\n",
        "  p_after = (int(px), int(py)) # after transformation\n",
        "  return p_after"
      ],
      "metadata": {
        "id": "6InPZQRgQDXG"
      },
      "execution_count": null,
      "outputs": []
    },
    {
      "cell_type": "markdown",
      "source": [
        "**TEST**"
      ],
      "metadata": {
        "id": "3EuG_zU_wNsE"
      }
    },
    {
      "cell_type": "code",
      "source": [
        "h_dict = {}\n",
        "for filen in tq(filens):\n",
        "  h_dict, _ = warp_to_tiff(filen, h_dict)"
      ],
      "metadata": {
        "colab": {
          "base_uri": "https://localhost:8080/"
        },
        "id": "diipXFdQxVNY",
        "outputId": "0d5248de-26d8-4ba1-c997-ce202505f7a6"
      },
      "execution_count": null,
      "outputs": [
        {
          "output_type": "stream",
          "name": "stderr",
          "text": [
            "100%|██████████| 100/100 [00:13<00:00,  7.52it/s]\n"
          ]
        }
      ]
    },
    {
      "cell_type": "code",
      "source": [
        "idx = 90  #5 50\n",
        "\n",
        "filen = filens[idx] \n",
        "img1 = cv2.rotate(cv2.imread(current_dir + '/undistorted/'+ filen), cv2.ROTATE_90_COUNTERCLOCKWISE)\n",
        "\n",
        "x,y = 384, 265 #img1.shape[1]/2, img1.shape[0]/2\n",
        "\n",
        "plt.figure(figsize=(15,15))\n",
        "plt.imshow(img1, cmap = 'gray')\n",
        "plt.scatter([x], [y], marker=\"x\", color=\"red\", s=250)\n",
        "plt.show()"
      ],
      "metadata": {
        "id": "dBw_STP5teKY"
      },
      "execution_count": null,
      "outputs": []
    },
    {
      "cell_type": "code",
      "source": [
        "p_after = remap_point(x,y,h_dict[filen])\n",
        "\n",
        "img2 = cv2.imread(current_dir + '/orthorectified/'+ filen)\n",
        "\n",
        "ds_picture = gdal.Open(current_dir + '/orthorectified/'+ filen)\n",
        "\n",
        "\n",
        "xx,yy = p_after[0], p_after[1]\n",
        "\n",
        "plt.figure(figsize=(15,15))\n",
        "plt.imshow(img2, cmap = 'gray')\n",
        "\n",
        "plt.scatter([xx], [yy], marker=\"x\", color=\"red\", s=250)\n",
        "plt.show()\n",
        "\n",
        "lon, lat, _ = from_px_to_lon_lat(ds_picture, xx, yy)"
      ],
      "metadata": {
        "id": "99yYDVCOzFlF"
      },
      "execution_count": null,
      "outputs": []
    },
    {
      "cell_type": "code",
      "source": [
        "map_filename = current_dir + '/odm_orthophoto.tif'\n",
        "ds_map = gdal.Open(map_filename)\n",
        "img_map = np.array(cv2.imread(map_filename,0))\n",
        "x_map, y_map = from_lon_lat_to_px(ds_map, lon, lat)\n",
        "\n",
        "plt.figure(figsize=(40,40))\n",
        "plt.imshow(img_map, cmap = 'gray')\n",
        "\n",
        "plt.scatter([x_map], [y_map], marker=\"x\", color=\"red\", s=250)\n",
        "plt.show()"
      ],
      "metadata": {
        "id": "i2CslXHl0GoZ"
      },
      "execution_count": null,
      "outputs": []
    }
  ]
}